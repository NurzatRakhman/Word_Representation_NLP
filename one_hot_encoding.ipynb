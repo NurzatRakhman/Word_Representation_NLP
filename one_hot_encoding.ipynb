{
 "cells": [
  {
   "cell_type": "code",
   "execution_count": 1,
   "metadata": {},
   "outputs": [
    {
     "name": "stdout",
     "output_type": "stream",
     "text": [
      "0 -> flight\n",
      "1 -> airport\n",
      "2 -> plane\n"
     ]
    }
   ],
   "source": [
    "from pathlib import Path  \n",
    "\n",
    "path_vocab = \"vocab.txt\" \n",
    "with Path(path_vocab).open() as f: \n",
    "    for idx, line in enumerate(f): \n",
    "        print(idx, '->', line.strip())"
   ]
  },
  {
   "cell_type": "code",
   "execution_count": 2,
   "metadata": {},
   "outputs": [
    {
     "name": "stderr",
     "output_type": "stream",
     "text": [
      "/anaconda3/lib/python3.6/site-packages/h5py/__init__.py:36: FutureWarning: Conversion of the second argument of issubdtype from `float` to `np.floating` is deprecated. In future, it will be treated as `np.float64 == np.dtype(float).type`.\n",
      "  from ._conv import register_converters as _register_converters\n"
     ]
    }
   ],
   "source": [
    "import tensorflow as tf  \n",
    "\n",
    "tf.enable_eager_execution() \n",
    "\n",
    "lookup_table = tf.contrib.lookup.index_table_from_file(path_vocab, num_oov_buckets=1) "
   ]
  },
  {
   "cell_type": "code",
   "execution_count": 8,
   "metadata": {},
   "outputs": [
    {
     "name": "stdout",
     "output_type": "stream",
     "text": [
      "tf.Tensor([1. 0. 0. 0.], shape=(4,), dtype=float32)\n",
      "tf.Tensor([0. 1. 0. 0.], shape=(4,), dtype=float32)\n",
      "tf.Tensor([0. 0. 1. 0.], shape=(4,), dtype=float32)\n",
      "tf.Tensor([0. 0. 0. 1.], shape=(4,), dtype=float32)\n"
     ]
    }
   ],
   "source": [
    "words = tf.constant(['flight', 'airport', 'plane', 'random'])  \n",
    "# length of dictionary plus one for unknown words \n",
    "depth = 4\n",
    "for word in words:  \n",
    "    idx = lookup_table.lookup(word)\n",
    "    one_hot_embedding = tf.one_hot(idx, depth)  # output: [3 x 3]\n",
    "    print(one_hot_embedding)"
   ]
  },
  {
   "cell_type": "code",
   "execution_count": null,
   "metadata": {},
   "outputs": [],
   "source": []
  }
 ],
 "metadata": {
  "kernelspec": {
   "display_name": "Python 3",
   "language": "python",
   "name": "python3"
  },
  "language_info": {
   "codemirror_mode": {
    "name": "ipython",
    "version": 3
   },
   "file_extension": ".py",
   "mimetype": "text/x-python",
   "name": "python",
   "nbconvert_exporter": "python",
   "pygments_lexer": "ipython3",
   "version": "3.6.6"
  }
 },
 "nbformat": 4,
 "nbformat_minor": 2
}
